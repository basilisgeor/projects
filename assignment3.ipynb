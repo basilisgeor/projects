{
  "cells": [
    {
      "cell_type": "markdown",
      "metadata": {
        "id": "y3Jp_VhCl4te",
        "tags": []
      },
      "source": [
        "# MΥΕ046 – Υπολογιστική Όραση: Άνοιξη 2023\n",
        "## 3η Σειρά Ασκήσεων: 50% του συνολικού βαθμού\n",
        "## Διδάσκων: Άγγελος Γιώτης\n",
        "- ΠΑΡΑΔΟΣΗ: **Σάββατο, 10 Ιουνίου, 2023 23:59**"
      ]
    },
    {
      "cell_type": "markdown",
      "metadata": {
        "id": "FOXXS2dOl4tj",
        "tags": []
      },
      "source": [
        "# Γενικές Οδηγίες\n",
        "\n",
        "Απαντήστε στα παρακάτω ζητήματα χρησιμοποιώντας Python στο συνημμένο σημειωματάριο Jupyter και ακολουθήστε τις παρακάτω οδηγίες:\n",
        " \n",
        "- Οι ασκήσεις είναι **ατομικές** - δεν επιτρέπεται η μεταξύ σας συνεργασία για την υλοποίηση/παράδοσή τους.\n",
        "\n",
        "- **Δεν** επιτρέπεται να χρησιμοποιήσετε κώδικα που τυχόν θα βρείτε στο διαδίκτυο (είτε αυτούσιο, είτε **παραγόμενο από ΑΙ**). Η χρήση κώδικα τρίτων θα έχει σαν αποτέλεσμα τον αυτόματο μηδενισμό σας.\n",
        "\n",
        "- Όλες οι λύσεις πρέπει να είναι γραμμένες σε αυτό το σημειωματάριο `Jupyter notebook`.\n",
        "\n",
        "* **Εάν** ένα ζήτημα περιλαμβάνει θεωρητική ερώτηση, η απάντηση θα **πρέπει** να συμπεριληφθεί στο τέλος του ζητήματος, σε ξεχωριστό \"Markdown\" κελί.\n",
        "\n",
        "- Ο κώδικάς σας πρέπει να σχολιαστεί εκτενώς!\n",
        "\n",
        "- Αφού ολοκληρώσετε (υλοποιήσετε και εκτελέσετε) τις απαντήσεις σας στο σημειωματάριο (notebook), εξαγάγετε το notebook ως PDF και υποβάλετε, τόσο το σημειωματάριο όσο και το PDF (δηλαδή τα αρχεία `.ipynb` και `.pdf`) στο `turnin` του μαθήματος, μαζί με ένα συνοδευτικό αρχείο `onoma.txt` που θα περιέχει το ον/μο σας και τον Α.Μ. σας.\n",
        "\n",
        "- Οι απαντήσεις θα παραδοθούν με την εντολή: **turnin assignment_3@mye046 onoma.txt assignment3.ipynb assignment3.pdf**\n",
        "\n",
        "- Μπορείτε να χρησιμοποιήσετε βασικά πακέτα γραμμικής άλγεβρας (π.χ. `NumPy`, `SciPy`), αλλά δεν επιτρέπεται να χρησιμοποιείτε τα πακέτα/βιβλιοθήκες που επιλύουν άμεσα τα προβλήματα, εκτός και αν αναφέρεται διαφορετικά η χρήση συγκεκριμένου πακέτου σε κάποιο ζήτημα. Αν δεν είστε βέβαιοι για κάποιο συγκεκριμένο πακέτο/βιβλιοθήκη ή συνάρτηση που θα χρησιμοποιήσετε, μη διστάσετε να ρωτήσετε τον διδάσκοντα.\n",
        "\n",
        "- Συνιστάται ιδιαίτερα να αρχίσετε να εργάζεστε στις ασκήσεις σας το συντομότερο δυνατό!\n",
        "\n",
        "**Late Policy:** Εργασίες που υποβάλλονται καθυστερημένα θα λαμβάνουν μείωση βαθμού 10% για κάθε 24 ώρες καθυστέρησης. Οι εργασίες δεν θα γίνονται δεκτές 96 ώρες (4 ημέρες) μετά την προθεσμία παράδοσης. Για παράδειγμα, παράδοση της εργασίας 2 ημέρες μετά την προθεσμία βαθμολογείται με άριστα το 40 (από 50)."
      ]
    },
    {
      "cell_type": "markdown",
      "metadata": {
        "id": "l5pbyh5yl4tk",
        "tags": [],
        "toc-hr-collapsed": true
      },
      "source": [
        "## Άσκηση 1: Μηχανική Μάθηση [25 μονάδες]"
      ]
    },
    {
      "cell_type": "markdown",
      "metadata": {
        "id": "m16Ecnjdl4tk"
      },
      "source": [
        "Στην άσκηση αυτή θα υλοποιήσετε μια σειρά από τεχνικές μηχανικής μάθησης με εφαρμογή στην επίλυση προβλημάτων υπολογιστικής όρασης."
      ]
    },
    {
      "cell_type": "markdown",
      "metadata": {
        "id": "zQpyhnvIl4tk"
      },
      "source": [
        "### Ζήτημα 1.1: Αρχική Εγκατάσταση"
      ]
    },
    {
      "cell_type": "markdown",
      "metadata": {
        "id": "CCC0JD1Il4tl"
      },
      "source": [
        "Θα χρησιμοποιήσουμε την ενότητα [Scikit-learn (Sklearn)](https://scikit-learn.org/stable/) για αυτή την άσκηση. Είναι μια από τις πιο χρήσιμες και ισχυρές βιβλιοθήκες για μηχανική μάθηση στην Python. Παρέχει μια επιλογή αποτελεσματικών εργαλείων για μηχανική μάθηση και στατιστική μοντελοποίηση, συμπεριλαμβανομένης της ταξινόμησης (classification), της παλινδρόμησης (regression), της ομαδοποίησης (clustering) και της μείωσης διάστασης (dimensionality reduction). Αυτό το πακέτο, το οποίο είναι σε μεγάλο βαθμό γραμμένο σε Python, βασίζεται στις βιβλιοθήκες NumPy, SciPy και Matplotlib.\n",
        "\n",
        "Αρχικά καλούμε/εγκαθιστούμε τη βασική μονάδα της βιβλιοθήκης sklearn."
      ]
    },
    {
      "cell_type": "code",
      "execution_count": 3,
      "metadata": {
        "id": "8ZiYlaSol4tm",
        "colab": {
          "base_uri": "https://localhost:8080/",
          "height": 36
        },
        "outputId": "96ee6858-56d0-44dd-fac7-a6663b3d62ec"
      },
      "outputs": [
        {
          "output_type": "execute_result",
          "data": {
            "text/plain": [
              "'1.2.2'"
            ],
            "application/vnd.google.colaboratory.intrinsic+json": {
              "type": "string"
            }
          },
          "metadata": {},
          "execution_count": 3
        }
      ],
      "source": [
        "import sklearn\n",
        "sklearn.__version__"
      ]
    },
    {
      "cell_type": "markdown",
      "metadata": {
        "id": "0SQL5iPKl4to"
      },
      "source": [
        "### Ζήτημα 1.2: Λήψη συνόλου δεδομένων χειρόγραφων ψηφίων \"MNIST\" και απεικόνιση παραδειγμάτων [2 μονάδες]"
      ]
    },
    {
      "cell_type": "markdown",
      "metadata": {
        "id": "-_f1_Tz7l4tq"
      },
      "source": [
        "Η βάση δεδομένων [MNIST](https://en.wikipedia.org/wiki/MNIST_database) (Modified National Institute of Standards and Technology database) είναι ένα αρκετά διαδεδομένο σύνολο δεδομένων που αποτελείται από εικόνες χειρόγραφων ψηφίων, διαστάσεων 28x28 σε κλίμακα του γκρι. Για αυτό το ζήτημα, θα χρησιμοποιήσουμε το πακέτο Sklearn για να κάνουμε ταξινόμηση μηχανικής μάθησης στο σύνολο δεδομένων MNIST.\n",
        "\n",
        "Το Sklearn παρέχει μια βάση δεδομένων MNIST χαμηλότερης ανάλυσης με εικόνες ψηφίων 8x8 pixel. Το πεδίο (attribute) `images` του συνόλου δεδομένων, αποθηκεύει πίνακες 8x8 τιμών κλίμακας του γκρι για κάθε εικόνα. Το πεδίο (attribute) `target` του συνόλου δεδομένων αποθηκεύει το ψηφίο που αντιπροσωπεύει κάθε εικόνα. Ολοκληρώστε τη συνάρτηση 'plot_mnist_sample()' για να απεικονίσετε σε ένα σχήμα 2x5 ένα δείγμα εικόνας από κάθε μια κατηγορία (κάθε πλαίσιο του 2x5 σχήματος αντιστοιχεί σε ένα ψηφίο/εικόνα μιας κατηγορίας). Η παρακάτω εικόνα δίνει ένα παράδειγμα:\n",
        "<!-- <img src=\"./images/examples_mnist.PNG\" alt=\"drawing\" width=\"400\"/> -->\n",
        "![mnist](images/examples_mnist.PNG) "
      ]
    },
    {
      "cell_type": "code",
      "execution_count": 4,
      "metadata": {
        "id": "vbXpRqO1l4tq"
      },
      "outputs": [],
      "source": [
        "import numpy as np\n",
        "import matplotlib.pyplot as plt\n",
        "from sklearn import datasets"
      ]
    },
    {
      "cell_type": "code",
      "execution_count": 5,
      "metadata": {
        "id": "3PTXSZhWl4tr",
        "colab": {
          "base_uri": "https://localhost:8080/"
        },
        "outputId": "e174766a-401b-4616-87ac-e2efb0fa1924"
      },
      "outputs": [
        {
          "output_type": "stream",
          "name": "stdout",
          "text": [
            "Images Shape (1797, 8, 8)\n",
            "Image Data Shape (1797, 64)\n",
            "Label Data Shape (1797,)\n"
          ]
        }
      ],
      "source": [
        "# Download MNIST Dataset from Sklearn\n",
        "digits = datasets.load_digits()\n",
        "\n",
        "# Print to show there are 1797 images (8 by 8)\n",
        "print(\"Images Shape\" , digits.images.shape)\n",
        "\n",
        "# Print to show there are 1797 image data (8 by 8 images for a dimensionality of 64)\n",
        "print(\"Image Data Shape\" , digits.data.shape)\n",
        "\n",
        "# Print to show there are 1797 labels (integers from 0-9)\n",
        "print(\"Label Data Shape\", digits.target.shape)"
      ]
    },
    {
      "cell_type": "code",
      "execution_count": 6,
      "metadata": {
        "id": "p43geFB4l4tr"
      },
      "outputs": [],
      "source": [
        "import random\n",
        "def plot_mnist_sample(digits):\n",
        "    \"\"\"\n",
        "    This function plots a sample image for each category,\n",
        "    The result is a figure with 2x5 grid of images.\n",
        "    \n",
        "    \"\"\"\n",
        "    plt.figure()\n",
        "    \n",
        "    \"\"\" ==========\n",
        "    YOUR CODE HERE\n",
        "    ========== \"\"\"\n",
        "    samp, axes = plt.subplots(2,5,figsize = (10,5)) #Create a sample image with a 2x5 grid for each category\n",
        "    for i in range (10):\n",
        "      category = np.where(digits.target == i)[0] #Find the category of the images to the same category\n",
        "      random_index = random.choice(category)\n",
        "      image = digits.images[random_index]\n",
        "\n",
        "      X = i // 5\n",
        "      Y = i % 5\n",
        "      axes[X, Y].imshow(image, cmap = 'gray') #Display the image in the specified subplot using a grayscale colormap\n",
        "      axes[X, Y].axis('off') #Turn off the axes and axis labels for the subplot\n",
        "\n"
      ]
    },
    {
      "cell_type": "code",
      "execution_count": 7,
      "metadata": {
        "id": "xEj8kOdul4tr",
        "colab": {
          "base_uri": "https://localhost:8080/",
          "height": 398
        },
        "outputId": "1cdfb87c-7d35-40fe-8771-f74530fb734a"
      },
      "outputs": [
        {
          "output_type": "display_data",
          "data": {
            "text/plain": [
              "<Figure size 640x480 with 0 Axes>"
            ]
          },
          "metadata": {}
        },
        {
          "output_type": "display_data",
          "data": {
            "text/plain": [
              "<Figure size 1000x500 with 10 Axes>"
            ],
            "image/png": "[encoded data removed]"
          },
          "metadata": {}
        }
      ],
      "source": [
        "# PLOT CODE: DO NOT CHANGE\n",
        "# This code is for you to plot the results.\n",
        "\n",
        "plot_mnist_sample(digits)"
      ]
    },
    {
      "cell_type": "markdown",
      "metadata": {
        "id": "sD68VE3pl4ts"
      },
      "source": [
        "### Ζήτημα 1.3: Αναγνώριση χειρόγραφων ψηφίων με Sklearn [4 μονάδες]"
      ]
    },
    {
      "cell_type": "markdown",
      "metadata": {
        "id": "W3ctL_Gwl4ts"
      },
      "source": [
        "Ένα από τα πιο ενδιαφέροντα πράγματα σχετικά με τη βιβλιοθήκη Sklearn είναι ότι παρέχει έναν εύκολο τρόπο δημιουργίας και κλήσης/χρήσης διαφορετικών μοντέλων. Σε αυτό το μέρος της άσκησης, θα αποκτήσετε εμπειρία με τα μοντέλα ταξινόμησης `LogisticRegressionClassifier` (ταξινόμηση με λογιστική παλινδρόμηση) και `kNNCalssifier` (ταξινόμηση με τη μέθοδο κ-κοντινότερων γειτόνων).\n",
        "\n",
        "Ακολουθούν αρχικά 2 βοηθητικές ρουτίνες: 1) μια *ρουτίνα δημιουργίας* mini-batches (παρτίδων) δεδομένων εκπαίδευσης και ελέγχου, αντίστοιχα, 2) μια *ρουτίνα ελέγχου* του εκάστοτε ταξινομητή στις παρτίδες δεδομένων (train/test): α) RandomClassifier(), β) LogisticRegressionClassifier(), γ) kNNClassifier καθώς και των ταξινομητών των ζητημάτων 1.4, 1.5, 1.6 και 2.2, 2.4, 2.5. Στη συνέχεια η συνάρτηση train_test_split() διαχωρίζει το σύνολο δεδομένων σε δεδομένα μάθησης (training set: <X_train, y_train>) και ελέγχου (test set: <X_test, y_test>).\n",
        "\n",
        "Ο κώδικας που ακολουθεί στη συνέχεια ορίζει κάποιες συναρτήσεις/μεθόδους για 3 ταξινομητές: 2 για τον RandomClassifier() και 3 μεθόδους για τους ταξινομητές LogisticRegressionClassifier() και kNNClassifier(). Οι 2 τελευταίες κλάσσεις έχουν μια μέθοδο __init__ για αρχικοποίηση, μια μέθοδο **train** για την εκπαίδευση του μοντέλου και μια μέθοδο __call__ για την πραγματοποίηση προβλέψεων. Πρέπει να συμπληρώσετε τα μέρη κώδικα που λείπουν από τις κλάσεις LogisticRegressionClassifier και kNNClassifier, χρησιμοποιώντας τις υλοποιήσεις `LogisticRegression` και `KNeighborsClassifier` από το Sklearn."
      ]
    },
    {
      "cell_type": "code",
      "execution_count": 8,
      "metadata": {
        "id": "bDZ8BK3Ol4ts"
      },
      "outputs": [],
      "source": [
        "# DO NOT CHANGE\n",
        "#### Some helper functions are given below####\n",
        "def DataBatch(data, label, batchsize, shuffle=True):\n",
        "    \"\"\"\n",
        "    This function provides a generator for batches of data that \n",
        "    yields data (batchsize, 3, 32, 32) and labels (batchsize)\n",
        "    if shuffle, it will load batches in a random order\n",
        "    \"\"\"\n",
        "    n = data.shape[0]\n",
        "    if shuffle:\n",
        "        index = np.random.permutation(n)\n",
        "    else:\n",
        "        index = np.arange(n)\n",
        "    for i in range(int(np.ceil(n/batchsize))):\n",
        "        inds = index[i*batchsize : min(n,(i+1)*batchsize)]\n",
        "        yield data[inds], label[inds]\n",
        "\n",
        "def test(testData, testLabels, classifier):\n",
        "    \"\"\"\n",
        "    Call this function to test the accuracy of a classifier\n",
        "    \"\"\"\n",
        "    batchsize=50\n",
        "    correct=0.\n",
        "    for data,label in DataBatch(testData,testLabels,batchsize,shuffle=False):\n",
        "        prediction = classifier(data)\n",
        "        correct += np.sum(prediction==label)\n",
        "    return correct/testData.shape[0]*100"
      ]
    },
    {
      "cell_type": "code",
      "execution_count": 9,
      "metadata": {
        "id": "QQ0N2RCZl4tt"
      },
      "outputs": [],
      "source": [
        "# DO NOT CHANGE\n",
        "# Split data into 90% train and 10% test subsets\n",
        "from sklearn.model_selection import train_test_split\n",
        "\n",
        "X_train, X_test, y_train, y_test = train_test_split(\n",
        "    digits.images.reshape((len(digits.images), -1)), digits.target, test_size=0.1, shuffle=False)"
      ]
    },
    {
      "cell_type": "code",
      "execution_count": 10,
      "metadata": {
        "id": "m6JnXh3jl4tt"
      },
      "outputs": [],
      "source": [
        "from sklearn.linear_model import LogisticRegression\n",
        "from sklearn.neighbors import KNeighborsClassifier\n",
        "\n",
        "class RandomClassifier():\n",
        "    \"\"\"\n",
        "    This is a sample classifier. \n",
        "    given an input it outputs a random class\n",
        "    \"\"\"\n",
        "    def __init__(self, classes=10):\n",
        "        self.classes=classes\n",
        "    def __call__(self, x):\n",
        "        return np.random.randint(self.classes, size=x.shape[0])\n",
        "    \n",
        "class LogisticRegressionClassifier():\n",
        "    def __init__(self, sol='liblinear'):\n",
        "        \"\"\"\n",
        "        Initialize Logistic Regression model.\n",
        "        \n",
        "        Inputs:\n",
        "        sol: Solver method that the Logistic Regression model would use for optimization\n",
        "        \"\"\"\n",
        "        \"\"\" ==========\n",
        "        YOUR CODE HERE\n",
        "        ========== \"\"\"\n",
        "        self.model = LogisticRegression(solver = sol) #Initialize the model\n",
        "        \n",
        "        \n",
        "    def train(self, trainData, trainLabels):\n",
        "        \"\"\"\n",
        "        Train your model with image data and corresponding labels.\n",
        "        \n",
        "        Inputs:\n",
        "        trainData: Training images (N,64)\n",
        "        trainLabels: Labels (N,)\n",
        "        \"\"\"\n",
        "        \"\"\" ==========\n",
        "        YOUR CODE HERE\n",
        "        ========== \"\"\"\n",
        "        self.model.fit(trainData, trainLabels) #Train the model with image data and corresponding labels.\n",
        "        \n",
        "        \n",
        "    def __call__(self, x):\n",
        "        \"\"\"\n",
        "        Predict the trained model on test data.\n",
        "\n",
        "        Inputs:\n",
        "        x: Test images (N,64)\n",
        "\n",
        "        Returns:\n",
        "        predicted labels (N,)\n",
        "        \"\"\"\n",
        "        \"\"\" ==========\n",
        "        YOUR CODE HERE\n",
        "        ========== \"\"\"\n",
        "        pred_lab = self.model.predict(x) #Predict the trained model on test data, using the X to predict the Y.\n",
        "        return pred_lab #Return it \n",
        "       \n",
        "    \n",
        "class kNNClassifier():\n",
        "    def __init__(self, k=3, algorithm='brute'):\n",
        "        \"\"\"\n",
        "        Initialize KNN model.\n",
        "        \n",
        "        Inputs:\n",
        "        k: number of neighbors involved in voting\n",
        "        algorithm: Algorithm used to compute nearest neighbors\n",
        "        \"\"\"\n",
        "        \"\"\" ==========\n",
        "        YOUR CODE HERE\n",
        "        ========== \"\"\"\n",
        "        self.model = KNeighborsClassifier(n_neighbors=k, algorithm=algorithm) #Initialize the model\n",
        "        \n",
        "        \n",
        "    def train(self, trainData, trainLabels):\n",
        "        \"\"\"\n",
        "        Train your model with image data and corresponding labels.\n",
        "        \n",
        "        Inputs:\n",
        "        trainData: Training images (N,64)\n",
        "        trainLabels: Labels (N,)\n",
        "        \"\"\"\n",
        "        \"\"\" ==========\n",
        "        YOUR CODE HERE\n",
        "        ========== \"\"\"\n",
        "        self.model.fit(trainData, trainLabels) #Train the model with image data and corresponding labels.\n",
        "       \n",
        "        \n",
        "    def __call__(self, x):\n",
        "        \"\"\"\n",
        "        Predict the trained model on test data.\n",
        "\n",
        "        Inputs:\n",
        "        x: Test images (N,64)\n",
        "\n",
        "        Returns:\n",
        "        predicted labels (N,)\n",
        "        \"\"\"\n",
        "        \"\"\" ==========\n",
        "        YOUR CODE HERE\n",
        "        ========== \"\"\"\n",
        "        pred_lab = self.model.predict(x) #Predict the trained model on test data, using the X to predict the Y.\n",
        "        return pred_lab #Return it\n",
        "        "
      ]
    },
    {
      "cell_type": "code",
      "execution_count": 11,
      "metadata": {
        "id": "ZQ9k9kw-l4tt",
        "colab": {
          "base_uri": "https://localhost:8080/"
        },
        "outputId": "31e49b45-4b40-48d4-ab40-ced28eeb0b2a"
      },
      "outputs": [
        {
          "output_type": "stream",
          "name": "stdout",
          "text": [
            "Random classifier accuracy: 9.444444\n"
          ]
        }
      ],
      "source": [
        "# TEST CODE: DO NOT CHANGE\n",
        "randomClassifierX = RandomClassifier()\n",
        "print ('Random classifier accuracy: %f'%test(X_test, y_test, randomClassifierX))"
      ]
    },
    {
      "cell_type": "code",
      "execution_count": 12,
      "metadata": {
        "id": "tOGbN8GDl4tu",
        "colab": {
          "base_uri": "https://localhost:8080/"
        },
        "outputId": "17af9598-b996-46ab-bf7b-9945af946967"
      },
      "outputs": [
        {
          "output_type": "stream",
          "name": "stdout",
          "text": [
            "Logistic Regression Classifier classifier accuracy: 93.888889\n"
          ]
        }
      ],
      "source": [
        "# TEST CODE: DO NOT CHANGE\n",
        "# TEST LogisticRegressionClassifier\n",
        "\n",
        "lrClassifierX = LogisticRegressionClassifier()\n",
        "lrClassifierX.train(X_train, y_train)\n",
        "print ('Logistic Regression Classifier classifier accuracy: %f'%test(X_test, y_test, lrClassifierX))"
      ]
    },
    {
      "cell_type": "code",
      "execution_count": 13,
      "metadata": {
        "id": "WN3IyTafl4tu",
        "colab": {
          "base_uri": "https://localhost:8080/"
        },
        "outputId": "2ebe0146-5f6d-401e-acc0-a7faf6da81de"
      },
      "outputs": [
        {
          "output_type": "stream",
          "name": "stdout",
          "text": [
            "k-NN Classifier accuracy: 96.666667\n"
          ]
        }
      ],
      "source": [
        "# TEST kNNClassifier\n",
        "\"\"\" ==========\n",
        "YOUR CODE HERE\n",
        "========== \"\"\"\n",
        "knnClassifierX = kNNClassifier(k = 3, algorithm = 'brute')\n",
        "knnClassifierX.train(X_train, y_train)\n",
        "print('k-NN Classifier accuracy: %f' % test(X_test, y_test, knnClassifierX))\n"
      ]
    },
    {
      "cell_type": "markdown",
      "metadata": {
        "id": "jt39SvrEl4tv"
      },
      "source": [
        "### Ζήτημα 1.4: Πίνακας Σύγχυσης [4 μονάδες]"
      ]
    },
    {
      "cell_type": "markdown",
      "metadata": {
        "id": "9jm0Zmzcl4tv"
      },
      "source": [
        "Ένας πίνακας σύγχυσης είναι ένας 2Δ πίνακας που χρησιμοποιείται συχνά για να περιγράψει την απόδοση ενός μοντέλου ταξινόμησης σε ένα σύνολο δεδομένων ελέγχου/δοκιμής (test data) για τα οποία είναι γνωστές οι πραγματικές τιμές (known labels). Εδώ θα υλοποιήσετε τη συνάρτηση που υπολογίζει τον πίνακα σύγχυσης για έναν ταξινομητή. Ο πίνακας (M) πρέπει να είναι $n \\times n$ όπου $n$ είναι ο αριθμός των κλάσεων/κατηγοριών. Η καταχώριση `M[i,j]` πρέπει να περιέχει το ποσοστό/λόγο των εικόνων της κατηγορίας `i` που ταξινομήθηκε ως κατηγορία `j`. Αν οι καταχωρήσεις `M[i,j]` έχουν υπολογιστεί σωστά, τότε τα στοιχεία `M[k,j]` κατά μήκος μιας γραμμής $k$ για $j \\neq k$ (εκτός της κύριας διαγωνίου) αναμένεται να αντιστοιχούν σε \"ψευδώς αρνητικές\" ταξινομήσεις (false negatives), ενώ τα στοιχεία `M[i,k]` κατά μήκος μιας στήλης $k$ για $i \\neq k$ (εκτός της κύριας διαγωνίου) αναμένεται να αντιστοιχούν σε \"ψευδώς θετικές\" ταξινομήσεις (false positives). Το ακόλουθο παράδειγμα δείχνει τον πίνακα σύγχυσης για τον `RandomClassifier` ταξινομητή. Ο στόχος σας είναι να σχεδιάσετε τα αποτελέσματα για τον `LogisticRegressionClassifier` και τον `kNNClassifier` ταξινομητή.\n",
        "\n",
        "<!-- <img src=\"./images/eg_confusion.PNG\" alt=\"drawing\" width=\"250\"/> -->\n",
        "![confusion](images/eg_confusion.PNG) "
      ]
    },
    {
      "cell_type": "code",
      "execution_count": 14,
      "metadata": {
        "id": "HP43z3lOl4tv"
      },
      "outputs": [],
      "source": [
        "from tqdm import tqdm\n",
        "\n",
        "def Confusion(testData, testLabels, classifier):\n",
        "    batchsize=50\n",
        "    correct=0\n",
        "    M=np.zeros((10,10))\n",
        "    num=testData.shape[0]/batchsize\n",
        "    count=0\n",
        "    acc=0\n",
        "    \n",
        "    for data,label in tqdm(DataBatch(testData,testLabels,batchsize,shuffle=False),total=len(testData)//batchsize):\n",
        "        \"\"\" ==========\n",
        "        YOUR CODE HERE\n",
        "        ========== \"\"\"\n",
        "        pred_label = classifier(data) #Get the data in batches and make predictions using the classifier\n",
        "        for i in range(len(label)):\n",
        "            M[label[i], pred_label[i]] += 1\n",
        "            if label[i] == pred_label[i]: #Compare the label with the prediction\n",
        "                correct += 1 #Get the number of correct predictions\n",
        "            count += 1 #Get the number of all predictions\n",
        "\n",
        "    # Calculate accuracy\n",
        "    acc = correct / count * 100.0\n",
        "    \n",
        "    return M, acc\n",
        "    \n",
        "def VisualizeConfussion(M):\n",
        "    plt.figure(figsize=(14, 6))\n",
        "    plt.imshow(M)\n",
        "    plt.show()\n",
        "    print(np.round(M,2))"
      ]
    },
    {
      "cell_type": "code",
      "execution_count": 15,
      "metadata": {
        "id": "suvefA82l4tv",
        "colab": {
          "base_uri": "https://localhost:8080/",
          "height": 725
        },
        "outputId": "5e3fe6f4-2ee8-4de0-8ff2-f85d8022bc09"
      },
      "outputs": [
        {
          "output_type": "stream",
          "name": "stderr",
          "text": [
            "4it [00:00, 1854.66it/s]             \n"
          ]
        },
        {
          "output_type": "display_data",
          "data": {
            "text/plain": [
              "<Figure size 1400x600 with 1 Axes>"
            ],
            "image/png": "[encoded data removed]"
          },
          "metadata": {}
        },
        {
          "output_type": "stream",
          "name": "stdout",
          "text": [
            "[[16.  0.  0.  0.  0.  0.  0.  0.  0.  0.]\n",
            " [ 0. 17.  0.  0.  1.  0.  0.  0.  1.  0.]\n",
            " [ 0.  0. 17.  0.  0.  0.  0.  0.  0.  0.]\n",
            " [ 0.  0.  0. 12.  0.  2.  0.  0.  4.  0.]\n",
            " [ 0.  0.  0.  0. 18.  0.  0.  0.  0.  2.]\n",
            " [ 0.  0.  0.  0.  0. 18.  0.  0.  0.  0.]\n",
            " [ 0.  0.  0.  0.  0.  0. 18.  0.  0.  0.]\n",
            " [ 0.  0.  0.  0.  0.  0.  0. 19.  0.  0.]\n",
            " [ 0.  0.  0.  0.  0.  0.  0.  0. 17.  0.]\n",
            " [ 0.  0.  0.  1.  0.  0.  0.  0.  0. 17.]]\n"
          ]
        }
      ],
      "source": [
        "# TEST/PLOT CODE: DO NOT CHANGE\n",
        "# TEST LogisticRegressionClassifier\n",
        "\n",
        "M,acc = Confusion(X_test, y_test, lrClassifierX)\n",
        "VisualizeConfussion(M)"
      ]
    },
    {
      "cell_type": "code",
      "execution_count": 16,
      "metadata": {
        "id": "YWZFcKjal4tw",
        "colab": {
          "base_uri": "https://localhost:8080/",
          "height": 725
        },
        "outputId": "7b34175d-8ca2-4778-9539-f0f9f3cfdc5a"
      },
      "outputs": [
        {
          "output_type": "stream",
          "name": "stderr",
          "text": [
            "4it [00:00, 150.51it/s]              \n"
          ]
        },
        {
          "output_type": "display_data",
          "data": {
            "text/plain": [
              "<Figure size 1400x600 with 1 Axes>"
            ],
            "image/png": "[encoded data removed]"
          },
          "metadata": {}
        },
        {
          "output_type": "stream",
          "name": "stdout",
          "text": [
            "[[16.  0.  0.  0.  0.  0.  0.  0.  0.  0.]\n",
            " [ 0. 19.  0.  0.  0.  0.  0.  0.  0.  0.]\n",
            " [ 0.  0. 17.  0.  0.  0.  0.  0.  0.  0.]\n",
            " [ 0.  0.  1. 16.  0.  1.  0.  0.  0.  0.]\n",
            " [ 0.  0.  0.  0. 19.  0.  0.  0.  0.  1.]\n",
            " [ 0.  0.  0.  0.  0. 18.  0.  0.  0.  0.]\n",
            " [ 0.  0.  0.  0.  0.  0. 18.  0.  0.  0.]\n",
            " [ 0.  0.  0.  0.  0.  0.  0. 19.  0.  0.]\n",
            " [ 0.  1.  0.  0.  0.  0.  0.  0. 16.  0.]\n",
            " [ 0.  0.  0.  1.  0.  1.  0.  0.  0. 16.]]\n"
          ]
        }
      ],
      "source": [
        "# TEST/PLOT CODE: DO NOT CHANGE\n",
        "# TEST kNNClassifier\n",
        "\n",
        "M,acc = Confusion(X_test, y_test, knnClassifierX)\n",
        "VisualizeConfussion(M)"
      ]
    },
    {
      "cell_type": "markdown",
      "metadata": {
        "id": "0HnFGSRFl4tw"
      },
      "source": [
        "### Ζήτημα 1.5: κ-Κοντινότεροι Γείτονες (k-Nearest Neighbors/kNN) [7 μονάδες]"
      ]
    },
    {
      "cell_type": "markdown",
      "metadata": {
        "id": "1l8Vxkoil4tw"
      },
      "source": [
        "Για αυτό το πρόβλημα, θα ολοκληρώσετε έναν απλό ταξινομητή kNN χωρίς χρήση του πακέτου Sklearn. Η μέτρηση της απόστασης είναι η Ευκλείδεια απόσταση (L2 norm) στον χώρο των pixel. Μπορείτε να χρησιμοποιήσετε τη συνάρτηση **np.linalg.norm** για να υπολογίσετε την απόσταση. Το $k$ αναφέρεται στον αριθμό των γειτόνων που συμμετέχουν στην ψηφοφορία για την ομάδα/κλάση."
      ]
    },
    {
      "cell_type": "code",
      "execution_count": 17,
      "metadata": {
        "id": "C-D-znLZl4tx"
      },
      "outputs": [],
      "source": [
        "class kNNClassifier_v1_5():\n",
        "    def __init__(self, k=3):\n",
        "        self.k=k\n",
        "\n",
        "    def train(self, trainData, trainLabels):\n",
        "        self.X_train = trainData\n",
        "        self.y_train = trainLabels\n",
        "        \n",
        "    def __call__(self, X):\n",
        "        \"\"\"\n",
        "        Predict the labels for the input data using KNN method.\n",
        "\n",
        "        Inputs:\n",
        "        X: Test images (N,64)\n",
        "\n",
        "        Returns:\n",
        "        predicted labels (N,)\n",
        "        \"\"\"\n",
        "        \"\"\" ==========\n",
        "        YOUR CODE HERE\n",
        "        ========== \"\"\"\n",
        "        num_of_X = X.shape[0] #Get the number of X images\n",
        "        pred_lab = np.zeros(num_of_X, dtype=self.y_train.dtype) #Initialize the predicted labels\n",
        "\n",
        "        for i in range(num_of_X) :\n",
        "          distance = np.linalg.norm(self.X_train - X[i], axis=1) #Get the distance between the test samples and the training samples\n",
        "          sorted = np.argsort(distance) #Sort the distances matrix\n",
        "          k_labels = self.y_train[sorted[:self.k]] #Get the k nearest neighbors labels\n",
        "          k_labels_majority = np.bincount(k_labels) #Use bincount to use majority voting on the labels\n",
        "          pred_lab[i] = np.argmax(k_labels_majority) #Get the highest values with argmax\n",
        "        return pred_lab #Return the predicted labels \n",
        "        "
      ]
    },
    {
      "cell_type": "code",
      "execution_count": 18,
      "metadata": {
        "id": "wPVvwhp0l4tx",
        "colab": {
          "base_uri": "https://localhost:8080/"
        },
        "outputId": "2011b842-96ff-4d15-f641-25ce60525c3f"
      },
      "outputs": [
        {
          "output_type": "stream",
          "name": "stdout",
          "text": [
            "kNN classifier accuracy: 96.666667\n"
          ]
        }
      ],
      "source": [
        "# TEST/PLOT CODE: DO NOT CHANGE\n",
        "# TEST kNNClassifierManual\n",
        "\n",
        "knnClassifierManualX = kNNClassifier_v1_5()\n",
        "knnClassifierManualX.train(X_train, y_train)\n",
        "print ('kNN classifier accuracy: %f'%test(X_test, y_test, knnClassifierManualX))"
      ]
    },
    {
      "cell_type": "markdown",
      "metadata": {
        "id": "jZQQIiKPnRQF"
      },
      "source": [
        "### Ζήτημα 1.6: PCA + κ-κοντινότεροι γείτονες (PCA/k-NN) [8 μονάδες] \n",
        "\n",
        "Σε αυτό το ζήτημα θα εφαρμόσετε έναν απλό ταξινομητή kNN, αλλά στον χώρο PCA, δηλαδή όχι τον χώρο των πίξελ, αλλά αυτόν\n",
        "που προκύπτει μετά από ανάλυση σε πρωτεύουσες συνιστώσες των εικόνων του συνόλου εκπαίδευσης (για k=3 και 25 πρωτεύουσες συνιστώσες).\n",
        "\n",
        "Θα πρέπει να υλοποιήσετε μόνοι σας την PCA χρησιμοποιώντας \"Singular Value Decomposition (SVD)\".\n",
        "Η χρήση του `sklearn.decomposition.PCA` ή οποιουδήποτε άλλου πακέτου που υλοποιεί άμεσα μετασχηματισμούς PCA θα οδηγήσει σε μείωση μονάδων.\n",
        "\n",
        "Μπορείτε να χρησιμοποιήσετε την προηγούμενη υλοποίηση του ταξινομητή kNN σε αυτό το ζήτημα.\n",
        "\n",
        "Είναι ο χρόνος ελέγχου για τον ταξινομητή PCA-kNN μεγαλύτερος ή μικρότερος από αυτόν για τον ταξινομητή kNN; Εφόσον διαφέρει, σχολιάστε γιατί στο τέλος της άσκησης."
      ]
    },
    {
      "cell_type": "code",
      "execution_count": 19,
      "metadata": {
        "id": "e06z90dxm7Af",
        "scrolled": true,
        "tags": [],
        "colab": {
          "base_uri": "https://localhost:8080/"
        },
        "outputId": "bbd3d4ef-8c6e-4812-8805-053611b4ab62"
      },
      "outputs": [
        {
          "output_type": "stream",
          "name": "stdout",
          "text": [
            "PCA-kNN classifier accuracy: 78.333333\n"
          ]
        }
      ],
      "source": [
        "def svd(A):\n",
        "    \"\"\" ==========\n",
        "    YOUR CODE HERE\n",
        "    ========== \"\"\"\n",
        "    U, singular_values, V = np.linalg.svd(A)\n",
        "    \n",
        "    return U, singular_values, V.T\n",
        "\n",
        "        \n",
        "\n",
        "class PCAKNNClassifer():\n",
        "    def __init__(self, components=25, k=3):\n",
        "        \"\"\"\n",
        "        Initialize PCA kNN classifier\n",
        "\n",
        "        Inputs:\n",
        "        components: number of principal components\n",
        "        k: number of neighbors involved in voting\n",
        "        \"\"\"\n",
        "        \"\"\" ==========\n",
        "        YOUR CODE HERE\n",
        "        ========== \"\"\"\n",
        "        self.components = components\n",
        "        self.k = k \n",
        "        self.mean = None\n",
        "        self.eigenv = None\n",
        "        self.labels = None\n",
        "        \n",
        "    def train(self, trainData, trainLabels):\n",
        "        \"\"\"\n",
        "        Train your model with image data and corresponding labels.\n",
        "        \n",
        "        Inputs:\n",
        "        trainData: Training images (N,64)\n",
        "        trainLabels: Labels (N,)\n",
        "        \"\"\"\n",
        "        \n",
        "        \"\"\" ==========\n",
        "        YOUR CODE HERE\n",
        "        ========== \"\"\"\n",
        "        self.mean = np.mean(trainData, axis = 0) #Compute the mean of the training data\n",
        "        X_hat = trainData - self.mean #Center the training data by subtracting the mean\n",
        "        \n",
        "\n",
        "        #Perform SVD on centered data (mean-deviation form of data matrix)\n",
        "        U, D, V = svd(X_hat)\n",
        "        \"\"\" ==========\n",
        "        YOUR CODE HERE\n",
        "        ========== \"\"\"\n",
        "        self.U = U[:,:self.components] #Store the U\n",
        "        self.D = D[:self.components] #Store the singular values\n",
        "        self.V = V[:self.components,:] #Store the eigenvectors\n",
        "\n",
        "        pca_data = np.dot(X_hat, self.V.T) #Project the data to PCA \n",
        "\n",
        "        self.pca_data = pca_data  #Store the projected data\n",
        "        self.labels = trainLabels #Store the labels\n",
        "\n",
        "        \n",
        "    def __call__(self, x):\n",
        "        \"\"\"\n",
        "        Predict the trained model on test data.\n",
        "\n",
        "        Inputs:\n",
        "        x: Test images (N,64)\n",
        "\n",
        "        Returns:\n",
        "        predicted labels (N,)\n",
        "        \"\"\"\n",
        "        \"\"\" ==========\n",
        "        YOUR CODE HERE\n",
        "        ========== \"\"\"\n",
        "        #self.mean = np.mean(self.pca_x, axis = 0)\n",
        "        X_hat = x - self.mean # Center the test data using the mean\n",
        "        pca_x = np.dot(X_hat, self.V.T)\n",
        "        predicted_labels = [] # Initialize the predicted labels\n",
        "\n",
        "        for sample in pca_x:\n",
        "            distances = np.linalg.norm(self.pca_data - sample,axis = 1) # Calculate the distance between the eigenvectors and the sample\n",
        "            k_nearest = np.argsort(distances)[:self.k] # Get the k nearest neighbors\n",
        "            nearest_labels = self.labels[k_nearest] # Get the labels of the nearest neighbors\n",
        "            label_counts, counts = np.unique(nearest_labels, return_counts=True) # Use majority voting on the labels\n",
        "            predicted_label = label_counts[np.argmax(counts)] # Get the label with the highest count\n",
        "            predicted_labels.append(predicted_label) # Append the predicted label to the list\n",
        "\n",
        "        return np.array(predicted_labels) # Return the predicted labels\n",
        "\n",
        "# test your classifier with only the first 100 training examples (use this\n",
        "# while debugging)\n",
        "pcaknnClassiferX = PCAKNNClassifer()\n",
        "pcaknnClassiferX.train(X_train[:100], y_train[:100])\n",
        "print ('PCA-kNN classifier accuracy: %f'%test(X_test, y_test, pcaknnClassiferX))"
      ]
    },
    {
      "cell_type": "code",
      "execution_count": 20,
      "metadata": {
        "id": "eSbD_cdeoOY5",
        "scrolled": false,
        "colab": {
          "base_uri": "https://localhost:8080/",
          "height": 743
        },
        "outputId": "ac6e15f3-cf4d-44c0-9207-322c66960ae7"
      },
      "outputs": [
        {
          "output_type": "stream",
          "name": "stderr",
          "text": [
            "4it [00:00, 51.01it/s]               \n"
          ]
        },
        {
          "output_type": "stream",
          "name": "stdout",
          "text": [
            "PCA-kNN classifier accuracy: 93.333333\n"
          ]
        },
        {
          "output_type": "display_data",
          "data": {
            "text/plain": [
              "<Figure size 1400x600 with 1 Axes>"
            ],
            "image/png": "[encoded data removed]"
          },
          "metadata": {}
        },
        {
          "output_type": "stream",
          "name": "stdout",
          "text": [
            "[[16.  0.  0.  0.  0.  0.  0.  0.  0.  0.]\n",
            " [ 0. 19.  0.  0.  0.  0.  0.  0.  0.  0.]\n",
            " [ 0.  0. 17.  0.  0.  0.  0.  0.  0.  0.]\n",
            " [ 0.  0.  1. 16.  0.  1.  0.  0.  0.  0.]\n",
            " [ 0.  1.  0.  0. 18.  0.  0.  0.  1.  0.]\n",
            " [ 0.  0.  0.  0.  0. 17.  0.  0.  0.  1.]\n",
            " [ 1.  0.  0.  0.  0.  0. 17.  0.  0.  0.]\n",
            " [ 0.  1.  0.  0.  0.  0.  0. 18.  0.  0.]\n",
            " [ 0.  2.  0.  2.  0.  0.  0.  0. 13.  0.]\n",
            " [ 0.  0.  0.  1.  0.  0.  0.  0.  0. 17.]]\n"
          ]
        }
      ],
      "source": [
        "# test your classifier with all the training examples\n",
        "pcaknnClassifer = PCAKNNClassifer()\n",
        "pcaknnClassifer.train(X_train, y_train)\n",
        "# display confusion matrix for your PCA KNN classifier with all the training examples\n",
        "\"\"\" ==========\n",
        "YOUR CODE HERE\n",
        "========== \"\"\"\n",
        "M_pca, acc_pca = Confusion(X_test, y_test, pcaknnClassifer)# Calculate the confusion matrix\n",
        "\n",
        "# Display the accuracy and visualize the confusion matrix\n",
        "print ('PCA-kNN classifier accuracy: %f'%test(X_test, y_test, pcaknnClassifer))\n",
        "VisualizeConfussion(M_pca)"
      ]
    },
    {
      "cell_type": "markdown",
      "metadata": {
        "id": "iuQfPRnEpM9c"
      },
      "source": [
        "- Σχολιασμός του χρόνου εκτέλεσης PCA-kNN σε σχέση με τον kNN.\n",
        "\n",
        "\"\"\" \n",
        "WRITE YOUR ANWSER HERE\n",
        "\"\"\""
      ]
    },
    {
      "cell_type": "markdown",
      "source": [
        "Ο χρόνος εκτέλεσης του PCA-kNN είναι μικρότερος σε σχέση με το χρόνο εκτέλεσης του kNN γιατί τα δεδομένα που τρέχουν είναι μεγάλων διαστάσεων, καθώς ο PCA-kNN μπορεί να μειώσει τις διαστάσεις αλλά χάνει accuracy λόγω αυτού."
      ],
      "metadata": {
        "id": "BAoqADVAwNo5"
      }
    },
    {
      "cell_type": "markdown",
      "metadata": {
        "id": "R8ol8VCDpV8Q"
      },
      "source": [
        "## Άσκηση 2: Βαθιά Μάθηση [25 μονάδες]\n"
      ]
    },
    {
      "cell_type": "markdown",
      "metadata": {
        "id": "aYf3GsdmpfvS"
      },
      "source": [
        "### Ζήτημα 2.1 Αρχική Εγκατάσταση (απεικόνιση παραδειγμάτων) [1 μονάδα]\n",
        "\n",
        "- **Τοπικά** (jupyter):\n",
        "Ακολουθήστε τις οδηγίες στη διεύθυνση https://pytorch.org/get-started/locally/ για να εγκαταστήσετε την PyΤorch τοπικά στον υπολογιστή σας.\n",
        "Για παράδειγμα, αφού δημιουργήσετε και ενεργοποιήσετε κάποιο εικονικό περιβάλλον anaconda με τις εντολές: π.χ. `(base)$ conda create -n askisi3`, `(base)$ conda activate askisi3`, η εντολή `(askisi3)$ conda install pytorch torchvision torchaudio cpuonly -c pytorch` εγκαθιστά την βιβλιοθήκη \"PyTorch\" σε περιβάλλον Linux/Windows χωρίς GPU υποστήριξη.\n",
        "\n",
        "**Προσοχή** σε αυτό το σημείο, αν τρέχετε την άσκηση τοπικά σε jupyter, εκτός της εγκατάστασης του PyTorch, θα χρειαστούν ξανά και κάποιες βιβλιοθήκες `matplotlib`, `scipy`, `tqdm` και `sklearn` (όπως και στην 1η άσκηση), μέσα στο περιβάλλον 'askisi3', πριν ανοίξετε το jupyter: `(askisi3)$ conda install matplotlib tqdm scipy` και `(askisi3)$ conda install -c anaconda scikit-learn`. Αυτό χρειάζεται διότι σε ορισμένες περιπτώσεις, αφού εγκαταστήσετε τις βιβλιοθήκες που απαιτούνται, πρέπει να εξασφαλίσετε ότι ο *Python Kernel* αναγνωρίζει την προϋπάρχουσα εγκατάσταση (PyTorch, matplotlib, tqdm, κτλ.).\n",
        "Τέλος, χρειάζεται να εγκαταστήσετε το jupyter ή jupyterlab μέσω του περιβάλλοντος conda: `(askisi3)$ conda install jupyter` και μετά να εκτελέσετε `(askisi3)$ jupyter notebook` για να ανοίξετε το jupyter με τη σωστή εγκατάσταση. Αν όλα έχουν γίνει σωστά, θα πρέπει ο *Python Kernel* να βλέπει όλα τα 'modules' που χρειάζεστε στη 2η άσκηση. Διαφορετικά, μπορείτε να εγκαταστήσετε εξ' αρχής όλες τις βιβλιοθήκες, από την αρχή υλοποίησης της 3ης σειράς ασκήσεων, μέσα στο εικονικό περιβάλλον *askisi3* ώστε να μην είναι απαραίτητη εκ νέου η εγκατάσταση των βιβλιοθηκών που θα χρειαστούν στη 2η άσκηση.\n",
        "\n",
        "- **Colab**: **Αν** χρησιμοποιείτε google colab, τότε δεν θα χρειαστεί λογικά κάποιο βήμα εγκατάστασης. Αν ωστόσο σας παρουσιαστεί κάποιο πρόβλημα με απουσία πακέτου, π.χ. \"ModuleNotFoundError - torchvision\", τότε μπορείτε απλώς να το εγκαταστήσετε με χρήση του εργαλείου `pip` εκτελώντας την αντίστοιχη εντολή (π.χ. \"!pip install torchvision\") σε ένα νέο κελί του notebook.\n",
        "\n",
        "Σημείωση: Δεν θα είναι απαραίτητη η χρήση GPU για αυτήν την άσκηση, γι' αυτό μην ανησυχείτε αν δεν έχετε ρυθμίσει την εγκατάσταση με υποστήριξη GPU. Επιπλέον, η εγκατάσταση με υποστήριξη GPU είναι συχνά πιο δύσκολη στη διαμόρφωση, γι' αυτό και προτείνεται να εγκαταστήσετε μόνο την έκδοση CPU. Ο Διδάσκων δεν θα παρέχει καμία υποστήριξη που σχετίζεται με GPU ή την CUDA.\n",
        "\n",
        "Εκτελέστε τις παρακάτω εντολές για να επαληθεύσετε την εγκατάστασή σας (PyTorch)."
      ]
    },
    {
      "cell_type": "code",
      "execution_count": 21,
      "metadata": {
        "id": "nQC44M9Rp1VR",
        "colab": {
          "base_uri": "https://localhost:8080/"
        },
        "outputId": "16e8f58c-6cda-465d-f8ca-921e25113ac3"
      },
      "outputs": [
        {
          "output_type": "stream",
          "name": "stdout",
          "text": [
            "tensor([[0.4686, 0.9805, 0.3218],\n",
            "        [0.4034, 0.0480, 0.4804],\n",
            "        [0.0203, 0.5866, 0.9174],\n",
            "        [0.2968, 0.7702, 0.9561]])\n"
          ]
        }
      ],
      "source": [
        "import scipy\n",
        "import torch.nn as nn\n",
        "import torch.nn.functional as F\n",
        "import torch\n",
        "from torch.autograd import Variable\n",
        "\n",
        "# create a tensor of 4x3 random-valued array\n",
        "x = torch.rand(4, 3)\n",
        "print(x)"
      ]
    },
    {
      "cell_type": "markdown",
      "metadata": {
        "id": "Ai7Lktn5tLBz"
      },
      "source": [
        "Σε αυτή την άσκηση, θα χρησιμοποιήσουμε το πλήρες σύνολο δεδομένων της βάσης δεδομένων MNIST με τις εικόνες ψηφίων 28x28 pixel (60.000 εικόνες εκπαίδευσης, 10.000 εικόνες ελέγχου).\n",
        "\n",
        "Ο κώδικας που ακολουθεί \"κατεβάζει\" το σύνολο δεδομένων MNIST της κλάσης [torchvision.datasets](https://pytorch.org/vision/main/generated/torchvision.datasets.MNIST.html#torchvision.datasets.MNIST), στο φάκελο `mnist` (του root καταλόγου). \n",
        "Μπορείτε να αλλάξετε τον κατάλογο που δείχνει η μεταβλητή `path` στη διαδρομή που επιθυμείτε. Ενδεικτικό `path` σε περιβάλλον Windows: **path = 'C:/Users/user/Υπολογιστική Όραση/assignments/assignment 3/'**. Στην περίπτωση που εργάζεστε μέσω **colab** μπορεί να χρειαστεί η φόρτωση του καταλόγου στο drive, εκτελώντας `from google.colab import drive` και `drive.mount('/content/gdrive')` και μετά θέτοντας π.χ το **path = '/content/gdrive/assignment3/'**.\n",
        "\n",
        "- Θα πρέπει να απεικονίσετε σε ένα σχήμα 2x5 ένα τυχαίο παράδειγμα εικόνας που αντιστοιχεί σε κάθε ετικέτα (κατηγορία) από τα δεδομένα εκπαίδευσης (αντίστοιχα του ζητήματος 1.2)."
      ]
    },
    {
      "cell_type": "code",
      "execution_count": 22,
      "metadata": {
        "scrolled": false,
        "colab": {
          "base_uri": "https://localhost:8080/"
        },
        "id": "2w-ZYr-MhxAy",
        "outputId": "f737220e-e245-49a6-8ea7-0914b14fa85d"
      },
      "outputs": [
        {
          "output_type": "stream",
          "name": "stdout",
          "text": [
            "Mounted at /content/drive\n"
          ]
        }
      ],
      "source": [
        "import torch\n",
        "import torchvision.datasets as datasets\n",
        "\n",
        "# import additional libs in case not already done in 'askisi 1'\n",
        "import matplotlib.pyplot as plt\n",
        "import numpy as np\n",
        "\n",
        "from google.colab import drive\n",
        "drive.mount('/content/drive')\n",
        "\n",
        "# Define the dataset directory\n",
        "path = '/content/drive/MyDrive/assignment3/'\n",
        "\n",
        "# Load the MNIST training dataset\n",
        "train_dataset = datasets.MNIST(root=path, train=True, download=True)\n",
        "\n",
        "# Extract the images and labels from the training dataset\n",
        "X_train = train_dataset.data.numpy()\n",
        "y_train = train_dataset.targets.numpy()\n",
        "\n",
        "# Load the MNIST testing dataset\n",
        "test_dataset = datasets.MNIST(root=path, train=False, download=True)\n",
        "\n",
        "# Extract the images and labels from the testing dataset\n",
        "X_test = test_dataset.data.numpy()\n",
        "y_test = test_dataset.targets.numpy()\n"
      ]
    },
    {
      "cell_type": "code",
      "execution_count": 23,
      "metadata": {
        "id": "E5tK3MeXN5v2"
      },
      "outputs": [],
      "source": [
        "import random\n",
        "def plot_mnist_sample_high_res(X_train, y_train):\n",
        "    \"\"\"\n",
        "    This function plots a sample image for each category,\n",
        "    The result is a figure with 2x5 grid of images.\n",
        "    \n",
        "    \"\"\"\n",
        "    plt.figure()\n",
        "    \n",
        "    \"\"\" ==========\n",
        "    YOUR CODE HERE\n",
        "    ========== \"\"\"\n",
        "    plt.figure(figsize=(10, 5))\n",
        "    axes = plt.subplots(2, 5)[1]\n",
        "\n",
        "    for i in range(10):\n",
        "        category_indices = np.where(y_train == i)[0]  # Find the indices of images in the category\n",
        "        random_index = random.choice(category_indices)  # Randomly select an image index from the category\n",
        "        image = X_train[random_index].reshape(28, 28)  # Reshape the image to its original size (28x28)\n",
        "\n",
        "        x = i // 5\n",
        "        y = i % 5\n",
        "        axes[x, y].imshow(image, cmap='gray')\n",
        "        axes[x, y].axis('off')\n",
        "\n",
        "    plt.tight_layout()\n",
        "    plt.show()"
      ]
    },
    {
      "cell_type": "code",
      "execution_count": 24,
      "metadata": {
        "id": "BNCBDoFnN8B5",
        "colab": {
          "base_uri": "https://localhost:8080/",
          "height": 375
        },
        "outputId": "5b51aff0-e1f5-4c03-b35e-fe3d23d1064f"
      },
      "outputs": [
        {
          "output_type": "display_data",
          "data": {
            "text/plain": [
              "<Figure size 640x480 with 0 Axes>"
            ]
          },
          "metadata": {}
        },
        {
          "output_type": "display_data",
          "data": {
            "text/plain": [
              "<Figure size 1000x500 with 0 Axes>"
            ]
          },
          "metadata": {}
        },
        {
          "output_type": "display_data",
          "data": {
            "text/plain": [
              "<Figure size 640x480 with 10 Axes>"
            ],
            "image/png": "[encoded data removed]"
          },
          "metadata": {}
        }
      ],
      "source": [
        "# PLOT CODE: DO NOT CHANGE\n",
        "# This code is for you to plot the results.\n",
        "\n",
        "plot_mnist_sample_high_res(X_train, y_train)"
      ]
    },
    {
      "cell_type": "markdown",
      "metadata": {
        "id": "6Wu-weDbqEAY"
      },
      "source": [
        "### Ζήτημα 2.2:  Εκπαίδευση Νευρωνικού Δικτύου με PyTorch [6 μονάδες]\n",
        "Ακολουθεί ένα τμήμα βοηθητικού κώδικα για την εκπαίδευση των βαθιών νευρωνικών δικτύων (Deep Neural Networks - DNN).\n",
        "\n",
        "- Ολοκληρώστε τη συνάρτηση train_net() για το παρακάτω DNN.\n",
        "\n",
        "Θα πρέπει να συμπεριλάβετε τις λειτουργίες της διαδικασίας της εκπαίδευσης σε αυτή τη συνάρτηση. Αυτό σημαίνει ότι για μια παρτίδα/υποσύνολο δεδομένων (batch μεγέθους 50) πρέπει να αρχικοποιήσετε τις παραγώγους, να υλοποιήσετε τη διάδοση προς τα εμπρός της πληροφορίας (forward propagation), να υπολογίσετε το σφάλμα εκτίμησης, να κάνετε οπισθοδιάδοση της πληροφορίας (μετάδοση προς τα πίσω των παραγώγων σφάλματος ως προς τα βάρη - backward propagation), και τέλος, να ενημερώσετε τις παραμέτρους (weight update). Θα πρέπει να επιλέξετε μια κατάλληλη συνάρτηση απώλειας και βελτιστοποιητή (optimizer) από την βιβλιοθήκη PyTorch για αυτό το πρόβλημα.\n",
        "\n",
        "Αυτή η συνάρτηση θα χρησιμοποιηθεί στα επόμενα ζητήματα με διαφορετικά δίκτυα. Θα μπορείτε δηλαδή να χρησιμοποιήσετε τη μέθοδο `train_net` για να εκπαιδεύσετε το βαθύ νευρωνικό σας δίκτυο, εφόσον προσδιορίσετε τη συγκεκριμένη αρχιτεκτονική σας και εφαρμόσετε το `forward pass` σε μια υπο/κλάσση της DNN (βλ. παράδειγμα \"LinearClassifier(DNN)\").\n",
        "Μπορείτε να ανατρέξετε στη διεύθυνση https://pytorch.org/tutorials/beginner/pytorch_with_examples.html για περισσότερες πληροφορίες.\n",
        "Επίσης, ένα αρκετά χρήσιμο \"tutorial\" περιλαμβάνεται στο σημειωματάριο jupyter `(tutorial1_pytorch_introduction.ipynb)` στη σελίδα ecourse του μαθήματος.\n",
        "\n"
      ]
    },
    {
      "cell_type": "code",
      "execution_count": 25,
      "metadata": {
        "id": "Ky0FksEwqDta"
      },
      "outputs": [],
      "source": [
        "# base class for your deep neural networks. It implements the training loop (train_net).\n",
        "\n",
        "\n",
        "import torch.nn.init\n",
        "import torch.nn as nn\n",
        "import torch.optim as optim\n",
        "from torch.autograd import Variable\n",
        "from torch.nn.parameter import Parameter\n",
        "from tqdm import tqdm\n",
        "from scipy.stats import truncnorm\n",
        "\n",
        "class DNN(nn.Module):\n",
        "    def __init__(self):\n",
        "        super(DNN, self).__init__()\n",
        "        pass\n",
        "    \n",
        "    def forward(self, x):\n",
        "        raise NotImplementedError\n",
        "    \n",
        "    def train_net(self, X_train, y_train, epochs=1, batchSize=50):\n",
        "        \"\"\" ==========\n",
        "        YOUR CODE HERE\n",
        "        ========== \"\"\"\n",
        "        loss_function = nn.CrossEntropyLoss() #Initialize the loss function\n",
        "        optimizer = optim.SGD(self.parameters(), lr=0.01, momentum=0.9) #Initialize the optimizer\n",
        "\n",
        "        X_train = torch.from_numpy(X_train) #Initialize the tensors\n",
        "        y_train = torch.from_numpy(y_train) #Initialize the tensors\n",
        "\n",
        "        for epoch in range(epochs):\n",
        "            sum_loss = 0.0 #Initialize the \n",
        "            data_size = X_train.size(0) #Get the data size\n",
        "            num_batches = data_size // batchSize #Get the number of batches\n",
        "\n",
        "            for i in range(num_batches):\n",
        "                inputs = Variable(X_train[i * batchSize:(i + 1) * batchSize]) #Get the inputs\n",
        "                labels = Variable(y_train[i * batchSize:(i + 1) * batchSize]) #Get the labels\n",
        "\n",
        "                optimizer.zero_grad() #Zero the parameter gradients\n",
        "\n",
        "                outputs = self.forward(inputs) #Forward step\n",
        "                loss = loss_function(outputs, labels)\n",
        "                loss.backward() #Backward step\n",
        "                optimizer.step() #Gradient step\n",
        "\n",
        "                sum_loss += loss.item() #Up the losses\n",
        "\n",
        "            print('Epoch %d/%d, Loss: %.3f' % (epoch + 1, epochs, sum_loss / num_batches))\n",
        "    \n",
        "    def __call__(self, x):\n",
        "        inputs = Variable(torch.FloatTensor(x))\n",
        "        prediction = self.forward(inputs)\n",
        "        return np.argmax(prediction.data.cpu().numpy(), 1)\n",
        "\n",
        "# helper function to get weight variable\n",
        "def weight_variable(shape):\n",
        "    initial = torch.Tensor(truncnorm.rvs(-1/0.01, 1/0.01, scale=0.01, size=shape))\n",
        "    return Parameter(initial, requires_grad=True)\n",
        "\n",
        "# helper function to get bias variable\n",
        "def bias_variable(shape):\n",
        "    initial = torch.Tensor(np.ones(shape)*0.1)\n",
        "    return Parameter(initial, requires_grad=True)"
      ]
    },
    {
      "cell_type": "code",
      "execution_count": 26,
      "metadata": {
        "id": "2HYVuzbtosJo"
      },
      "outputs": [],
      "source": [
        "# example linear classifier - input connected to output\n",
        "# you can take this as an example to learn how to extend DNN class\n",
        "class LinearClassifier(DNN):\n",
        "    def __init__(self, in_features=28*28, classes=10):\n",
        "        super(LinearClassifier, self).__init__()\n",
        "        # in_features=28*28\n",
        "        self.weight1 = weight_variable((classes, in_features))\n",
        "        self.bias1 = bias_variable((classes))\n",
        "    \n",
        "    def forward(self, x):\n",
        "        # linear operation\n",
        "        y_pred = torch.addmm(self.bias1, x.view(list(x.size())[0], -1), self.weight1.t())\n",
        "        return y_pred\n",
        "\n",
        "#X_train=np.float32(np.expand_dims(X_train,-1))/255\n",
        "#X_train=X_train.transpose((0,3,1,2))\n",
        "\n",
        "#X_test=np.float32(np.expand_dims(X_test,-1))/255\n",
        "#X_test=X_test.transpose((0,3,1,2))\n",
        "\n",
        "## In case abovementioned 4 lines return error: Modify the lines for transposing X_train\n",
        "## and X_test by uncommenting the following 4 lines and place the 4 lines above in comments\n",
        "\n",
        "X_train = np.float32(X_train) / 255.0\n",
        "X_train = X_train.reshape(-1, 1, 28, 28)\n",
        "\n",
        "X_test = np.float32(X_test) / 255.0\n",
        "X_test = X_test.reshape(-1, 1, 28, 28)"
      ]
    },
    {
      "cell_type": "code",
      "execution_count": 27,
      "metadata": {
        "id": "J-UGSj6FqRKf",
        "colab": {
          "base_uri": "https://localhost:8080/"
        },
        "outputId": "ecdcb233-ab1a-4704-ac6d-e6d706579e8f"
      },
      "outputs": [
        {
          "output_type": "stream",
          "name": "stdout",
          "text": [
            "Epoch 1/10, Loss: 0.459\n",
            "Epoch 2/10, Loss: 0.330\n",
            "Epoch 3/10, Loss: 0.310\n",
            "Epoch 4/10, Loss: 0.299\n",
            "Epoch 5/10, Loss: 0.292\n",
            "Epoch 6/10, Loss: 0.287\n",
            "Epoch 7/10, Loss: 0.283\n",
            "Epoch 8/10, Loss: 0.280\n",
            "Epoch 9/10, Loss: 0.277\n",
            "Epoch 10/10, Loss: 0.275\n",
            "Linear classifier accuracy: 92.100000\n"
          ]
        }
      ],
      "source": [
        "# test the example linear classifier (note you should get around 90% accuracy\n",
        "# for 10 epochs and batchsize 50)\n",
        "linearClassifier = LinearClassifier()\n",
        "linearClassifier.train_net(X_train, y_train, epochs=10)\n",
        "\n",
        "print ('Linear classifier accuracy: %f'%test(X_test, y_test, linearClassifier))"
      ]
    },
    {
      "cell_type": "code",
      "execution_count": 28,
      "metadata": {
        "id": "8RA5688oyNTu",
        "colab": {
          "base_uri": "https://localhost:8080/",
          "height": 910
        },
        "outputId": "d4932a38-f09b-4bbe-de23-9993b87908b0"
      },
      "outputs": [
        {
          "output_type": "stream",
          "name": "stderr",
          "text": [
            "100%|██████████| 200/200 [00:00<00:00, 3903.44it/s]\n"
          ]
        },
        {
          "output_type": "display_data",
          "data": {
            "text/plain": [
              "<Figure size 1400x600 with 1 Axes>"
            ],
            "image/png": "[encoded data removed]"
          },
          "metadata": {}
        },
        {
          "output_type": "stream",
          "name": "stdout",
          "text": [
            "[[9.640e+02 0.000e+00 0.000e+00 1.000e+00 0.000e+00 4.000e+00 9.000e+00\n",
            "  1.000e+00 1.000e+00 0.000e+00]\n",
            " [0.000e+00 1.112e+03 2.000e+00 2.000e+00 0.000e+00 1.000e+00 4.000e+00\n",
            "  2.000e+00 1.200e+01 0.000e+00]\n",
            " [8.000e+00 1.000e+01 9.100e+02 1.700e+01 6.000e+00 5.000e+00 1.400e+01\n",
            "  1.100e+01 4.000e+01 1.100e+01]\n",
            " [4.000e+00 1.000e+00 1.700e+01 9.040e+02 0.000e+00 4.300e+01 3.000e+00\n",
            "  1.200e+01 1.500e+01 1.100e+01]\n",
            " [1.000e+00 2.000e+00 3.000e+00 1.000e+00 8.980e+02 1.000e+00 1.300e+01\n",
            "  3.000e+00 1.000e+01 5.000e+01]\n",
            " [1.000e+01 2.000e+00 2.000e+00 2.000e+01 8.000e+00 8.010e+02 1.400e+01\n",
            "  5.000e+00 2.300e+01 7.000e+00]\n",
            " [1.300e+01 3.000e+00 3.000e+00 2.000e+00 8.000e+00 1.800e+01 9.070e+02\n",
            "  3.000e+00 1.000e+00 0.000e+00]\n",
            " [1.000e+00 6.000e+00 2.200e+01 8.000e+00 6.000e+00 1.000e+00 0.000e+00\n",
            "  9.460e+02 2.000e+00 3.600e+01]\n",
            " [8.000e+00 1.100e+01 6.000e+00 2.300e+01 9.000e+00 4.500e+01 9.000e+00\n",
            "  1.100e+01 8.440e+02 8.000e+00]\n",
            " [1.200e+01 8.000e+00 1.000e+00 9.000e+00 1.800e+01 8.000e+00 0.000e+00\n",
            "  2.400e+01 5.000e+00 9.240e+02]]\n"
          ]
        }
      ],
      "source": [
        "# display confusion matrix\n",
        "\"\"\" ==========\n",
        "YOUR CODE HERE\n",
        "========== \"\"\"\n",
        "M, acc = Confusion(X_test, y_test, linearClassifier)\n",
        "VisualizeConfussion(M)\n"
      ]
    },
    {
      "cell_type": "markdown",
      "metadata": {
        "id": "mNzcCiLr0AU8"
      },
      "source": [
        "### Ζήτημα 2.3: Οπτικοποίηση Βαρών (Visualizing Weights of Single Layer Perceptron) [3 μονάδες]\n",
        "Αυτός ο απλός γραμμικός ταξινομητής που υλοποιείται στο παραπάνω κελί (το μοντέλο απλά επιστρέφει ένα γραμμικό συνδυασμό της εισόδου) παρουσιάζει ήδη αρκετά καλά αποτελέσματα.\n",
        "\n",
        "- Σχεδιάστε τα βάρη του φίλτρου που αντιστοιχούν σε κάθε κατηγορία εξόδου (τα **βάρη**/weights, όχι τους όρους *bias*) ως εικόνες. Κανονικοποιήστε τα βάρη ώστε να βρίσκονται μεταξύ 0 και 1 ( $z_i = (w_i - min(w)) / (max(w) – min(w))$ ). Χρησιμοποιήστε έγχρωμους χάρτες όπως \"inferno\" ή \"plasma\" για καλά αποτελέσματα (π.χ. cmap='inferno', ως όρισμα της imshow()).\n",
        "\n",
        "- Σχολιάστε με τι μοιάζουν τα βάρη και γιατί μπορεί να συμβαίνει αυτό.\n"
      ]
    },
    {
      "cell_type": "code",
      "execution_count": 35,
      "metadata": {
        "id": "Q8S3dYZgzzT_",
        "colab": {
          "base_uri": "https://localhost:8080/",
          "height": 125
        },
        "outputId": "f11e5d3a-4c49-4c64-ef7e-5156eff678ac"
      },
      "outputs": [
        {
          "output_type": "display_data",
          "data": {
            "text/plain": [
              "<Figure size 1000x200 with 10 Axes>"
            ],
            "image/png": "[encoded data removed]"
          },
          "metadata": {}
        }
      ],
      "source": [
        "# Plot filter weights corresponding to each class, you may have to reshape them to make sense out of them\n",
        "# linearClassifier.weight1.data will give you the first layer weights\n",
        "\"\"\" ==========\n",
        "YOUR CODE HERE\n",
        "========== \"\"\"\n",
        "weights_mat = linearClassifier.weight1.data  # Get the first layer weights\n",
        "num_classes, num_features = weights_mat.size() #Get the number of classes and number of features\n",
        "\n",
        "weights = weights_mat.view(num_classes, 1, int(np.sqrt(num_features)), int(np.sqrt(num_features))) # Reshape the weights for visualization\n",
        "\n",
        "# Normalize the weights to lie between 0 and 1\n",
        "min_weight = weights.min()\n",
        "max_weight = weights.max()\n",
        "normalized_weights = (weights - min_weight) / (max_weight - min_weight) #Use the given equation\n",
        "\n",
        "# Plot the weights for each class\n",
        "fig, axs = plt.subplots(1, num_classes, figsize=(10, 2))\n",
        "for i in range(num_classes):\n",
        "    axs[i].imshow(normalized_weights[i][0], cmap='inferno')\n",
        "    axs[i].axis('off')\n",
        "    axs[i].set_title(f'Class {i}')\n",
        "plt.show()\n",
        "\n",
        "\n"
      ]
    },
    {
      "cell_type": "markdown",
      "metadata": {
        "id": "zmQUOBNg0PkW"
      },
      "source": [
        "#### Σχολιασμός των βαρών\n"
      ]
    },
    {
      "cell_type": "markdown",
      "source": [
        "Τα βάρη φέρουν χαρακτηριστικά των αντίστοιχων ψηφίων τους. Αυτό συμβαίνει επειδή ο Classifier έχει εκπαιδευτεί να αναγνωρίζει συγκεκριμένα σχέδια.\n"
      ],
      "metadata": {
        "id": "0_X07ISKWO1H"
      }
    },
    {
      "cell_type": "markdown",
      "metadata": {
        "id": "gJBWgsBE0S7K"
      },
      "source": [
        "### Ζήτημα 2.4: Νευρωνικό δίκτυο πολλαπλών επιπέδων - Multi Layer Perceptron (MLP) [7 μονάδες]\n",
        "Θα υλοποιήσετε ένα MLP νευρωνικό δίκτυο. Το MLP θα πρέπει να αποτελείται από 2 επίπεδα (πολλαπλασιασμός βάρους και μετατόπιση μεροληψίας/bias - γραμμικός συνδυασμός εισόδου) που απεικονίζονται (map) στις ακόλουθες διαστάσεις χαρακτηριστικών:\n",
        "\n",
        "* 28x28 -> hidden (50)\n",
        "* hidden (50) -> classes\n",
        "\n",
        "* Το κρυμμένο επίπεδο πρέπει να ακολουθείται από μια μη γραμμική συνάρτηση ενεργοποίησης ReLU. Το τελευταίο επίπεδο δεν θα πρέπει να έχει εφαρμογή μη γραμμικής απεικόνισης καθώς επιθυμούμε την έξοδο ακατέργαστων 'logits' (στη μηχανική μάθηση, τα logits είναι οι τιμές που παράγονται από το τελικό επίπεδο ενός μοντέλου πριν περάσουν από μια συνάρτηση ενεργοποίησης softmax. Αντιπροσωπεύουν τις προβλέψεις του μοντέλου για κάθε κατηγορία χωρίς να μετατρέπονται σε πιθανότητες).\n",
        "* Η τελική έξοδος του υπολογιστικού γράφου (μοντέλου) θα πρέπει να αποθηκευτεί στο self.y καθώς θα χρησιμοποιηθεί στην εκπαίδευση.\n",
        "\n",
        "Εμφανίστε τον πίνακα σύγχυσης (confusion matrix - υλοποίηση 1ης άσκησης) και την ακρίβεια (accuracy) μετά την εκπαίδευση. Σημείωση: Θα πρέπει να έχετε ~95% ακρίβεια για 10 εποχές (epochs) και μέγεθος παρτίδας (batch size) 50.\n",
        "\n",
        "Σχεδιάστε τα βάρη του φίλτρου που αντιστοιχούν στην αντιστοίχιση από τις εισόδους στις πρώτες 10 εξόδους του κρυμμένου επιπέδου (από τις 50 συνολικά). Μοιάζουν τα βάρη αυτά καθόλου με τα βάρη που απεικονίστηκαν στο προηγούμενο ζήτημα; Γιατί ή γιατί όχι?\n",
        "\n",
        "Αναμένεται ότι το μοντέλο εκπαίδευσης θα διαρκέσει από 1 έως μερικά λεπτά για να τρέξει, ανάλογα με τις δυνατότητες της CPU."
      ]
    },
    {
      "cell_type": "code",
      "execution_count": 33,
      "metadata": {
        "id": "Ss2lUgpL0JRh",
        "colab": {
          "base_uri": "https://localhost:8080/"
        },
        "outputId": "39862a01-9093-4d27-f1ec-c2ca49ed369f"
      },
      "outputs": [
        {
          "output_type": "stream",
          "name": "stdout",
          "text": [
            "Epoch 1/10, Loss: 0.551\n",
            "Epoch 2/10, Loss: 0.247\n",
            "Epoch 3/10, Loss: 0.184\n",
            "Epoch 4/10, Loss: 0.149\n",
            "Epoch 5/10, Loss: 0.126\n",
            "Epoch 6/10, Loss: 0.110\n",
            "Epoch 7/10, Loss: 0.098\n",
            "Epoch 8/10, Loss: 0.088\n",
            "Epoch 9/10, Loss: 0.081\n",
            "Epoch 10/10, Loss: 0.074\n"
          ]
        }
      ],
      "source": [
        "class MLPClassifer(DNN):\n",
        "    def __init__(self, in_features=28*28, classes=10, hidden=50):\n",
        "        \"\"\"\n",
        "        Initialize weight and bias variables\n",
        "        \"\"\"\n",
        "        super(MLPClassifer, self).__init__()\n",
        "        \"\"\" ==========\n",
        "        YOUR CODE HERE\n",
        "        ========== \"\"\"\n",
        "        self.weight_first = weight_variable((hidden, in_features)) #Initialize the weight for first level\n",
        "        self.bias_first = bias_variable((hidden)) #Initialize the bias for first level\n",
        "        self.weight_second = weight_variable((classes, hidden)) #Initialize the weight for second level\n",
        "        self.bias_second = bias_variable((classes)) #Initialize the bias for second level      \n",
        "    \n",
        "    def forward(self, x):\n",
        "        \"\"\" ==========\n",
        "        YOUR CODE HERE\n",
        "        ========== \"\"\"\n",
        "        x = x.view(x.size(0), -1) #Flatten the input\n",
        "        hidden_level = torch.addmm(self.bias_first, x, self.weight_first.t())\n",
        "        hidden_level = nn.functional.relu(hidden_level) #Apply ReLU activation function\n",
        "        self.y = torch.addmm(self.bias_second, hidden_level, self.weight_second.t())\n",
        "        return self.y\n",
        "       \n",
        "mlpClassifer = MLPClassifer()\n",
        "mlpClassifer.train_net(X_train, y_train, epochs=10, batchSize=50)"
      ]
    },
    {
      "cell_type": "code",
      "execution_count": 34,
      "metadata": {
        "id": "R-4xraHl0muj",
        "colab": {
          "base_uri": "https://localhost:8080/",
          "height": 946
        },
        "outputId": "8ed7dfa1-4d4c-4e6c-cf59-1c3ad9919b6d"
      },
      "outputs": [
        {
          "output_type": "stream",
          "name": "stderr",
          "text": [
            "100%|██████████| 200/200 [00:00<00:00, 2445.86it/s]\n"
          ]
        },
        {
          "output_type": "stream",
          "name": "stdout",
          "text": [
            "Confusion matrix - MLP classifier accuracy: 96.660000\n",
            "MLP classifier accuracy: 96.660000\n"
          ]
        },
        {
          "output_type": "display_data",
          "data": {
            "text/plain": [
              "<Figure size 1400x600 with 1 Axes>"
            ],
            "image/png": "[encoded data removed]"
          },
          "metadata": {}
        },
        {
          "output_type": "stream",
          "name": "stdout",
          "text": [
            "[[9.670e+02 0.000e+00 0.000e+00 1.000e+00 0.000e+00 8.000e+00 2.000e+00\n",
            "  1.000e+00 1.000e+00 0.000e+00]\n",
            " [0.000e+00 1.123e+03 3.000e+00 2.000e+00 0.000e+00 2.000e+00 2.000e+00\n",
            "  0.000e+00 3.000e+00 0.000e+00]\n",
            " [6.000e+00 2.000e+00 9.970e+02 8.000e+00 2.000e+00 3.000e+00 1.000e+00\n",
            "  4.000e+00 9.000e+00 0.000e+00]\n",
            " [0.000e+00 0.000e+00 6.000e+00 9.470e+02 1.000e+00 4.500e+01 0.000e+00\n",
            "  4.000e+00 3.000e+00 4.000e+00]\n",
            " [3.000e+00 0.000e+00 3.000e+00 0.000e+00 9.590e+02 1.000e+00 6.000e+00\n",
            "  2.000e+00 0.000e+00 8.000e+00]\n",
            " [2.000e+00 0.000e+00 0.000e+00 0.000e+00 1.000e+00 8.840e+02 2.000e+00\n",
            "  0.000e+00 2.000e+00 1.000e+00]\n",
            " [7.000e+00 3.000e+00 1.000e+00 1.000e+00 2.000e+00 1.900e+01 9.200e+02\n",
            "  1.000e+00 4.000e+00 0.000e+00]\n",
            " [2.000e+00 8.000e+00 1.500e+01 4.000e+00 1.000e+00 1.000e+00 0.000e+00\n",
            "  9.890e+02 2.000e+00 6.000e+00]\n",
            " [7.000e+00 2.000e+00 1.000e+00 7.000e+00 5.000e+00 2.000e+01 3.000e+00\n",
            "  2.000e+00 9.250e+02 2.000e+00]\n",
            " [5.000e+00 4.000e+00 0.000e+00 6.000e+00 1.300e+01 1.600e+01 0.000e+00\n",
            "  5.000e+00 5.000e+00 9.550e+02]]\n"
          ]
        }
      ],
      "source": [
        "# Plot confusion matrix\n",
        "M_mlp,acc_mlp = Confusion(X_test, y_test, mlpClassifer)\n",
        "\n",
        "print ('Confusion matrix - MLP classifier accuracy: %f'%acc_mlp)\n",
        "\n",
        "# Check also standard accucary of test() for consistency\n",
        "print ('MLP classifier accuracy: %f'%test(X_test, y_test, mlpClassifer))\n",
        "\n",
        "VisualizeConfussion(M_mlp)"
      ]
    },
    {
      "cell_type": "code",
      "execution_count": 42,
      "metadata": {
        "id": "FLD0yjHH0bVU",
        "colab": {
          "base_uri": "https://localhost:8080/",
          "height": 480
        },
        "outputId": "3b4325ff-51ce-49b1-afeb-b35a0abd2888"
      },
      "outputs": [
        {
          "output_type": "display_data",
          "data": {
            "text/plain": [
              "<Figure size 1000x500 with 10 Axes>"
            ],
            "image/png": "[encoded data removed]"
          },
          "metadata": {}
        }
      ],
      "source": [
        "# Plot filter weights\n",
        "\"\"\" ==========\n",
        "YOUR CODE HERE\n",
        "========== \"\"\"\n",
        "weight_filters = mlpClassifer.weight_first[:10,:].data.numpy() #Get the first 10 filter weights\n",
        "weights = weights_mat.view(num_classes, 1, int(np.sqrt(num_features)), int(np.sqrt(num_features))) # Reshape the weights for visualization\n",
        "\n",
        "fig, plot = plt.subplots(2, 5, figsize=(10, 5))\n",
        "plot = plot.flatten()\n",
        "\n",
        "#Plot the filters\n",
        "for i in range(10):\n",
        "    axs = plot[i]\n",
        "    filter_weight = weights[i, :]\n",
        "    min_weight = torch.min(filter_weight)\n",
        "    max_weight = torch.max(filter_weight)\n",
        "    normalized_weights = (filter_weight - min_weight) / (max_weight - min_weight)\n",
        "    axs.imshow(normalized_weights.reshape(28, 28), cmap='inferno')\n",
        "    axs.set_title(f\"Filter {i+1}\")\n",
        "\n",
        "plt.tight_layout()\n",
        "plt.show()"
      ]
    },
    {
      "cell_type": "markdown",
      "metadata": {
        "id": "tBC6s9qQ1KKj"
      },
      "source": [
        "### Ζήτημα 2.5: Συνελικτικό Νευρωνικό Δίκτυο - Convolutional Neural Network (CNN) [8 μονάδες]\n",
        "Εδώ θα υλοποιήσετε ένα CNN με την ακόλουθη αρχιτεκτονική:\n",
        "\n",
        "* n=10 (output features or filters)\n",
        "* ReLU( Conv(kernel_size=5x5, stride=2, output_features=n) )\n",
        "* ReLU( Conv(kernel_size=5x5, stride=2, output_features=n*2) )\n",
        "* ReLU( Linear(hidden units = 64) )\n",
        "* Linear(output_features=classes)\n",
        "\n",
        "Δηλαδή, 2 συνελικτικά επίπεδα (Conv Layers) όπου απεικονίζουν μη-γραμμικά (ReLU) την είσοδο του προηγούμενου επιπέδου, ακολουθούμενα από 1 πλήρως συνδεδεμένο κρυμμένο επίπεδο (FC hidden layer) με μη γραμμική ενεργοποίηση (ReLU) και μετά το επίπεδο εξόδου (output layer) όπου συνδυάζει γραμμικά τις τιμές του προηγούμενου επιπέδου.\n",
        "\n",
        "Εμφανίστε τον πίνακα σύγχυσης και την ακρίβεια μετά την εκπαίδευση. Θα πρέπει να έχετε περίπου ~98% ακρίβεια για 10 εποχές και μέγεθος παρτίδας 50.<br><br>\n",
        "\n",
        "**Σημείωση: Δεν επιτρέπεται να χρησιμοποιείτε τις torch.nn.Conv2d() και torch.nn.Linear(). Η χρήση αυτών θα οδηγήσει σε αφαίρεση μονάδων. Χρησιμοποιήστε τις δηλωμένες συναρτήσεις conv2d(), weight_variable() και bias_variable().** Ωστόσο στην πράξη, όταν προχωρήσετε μετά από αυτό το μάθημα, θα χρησιμοποιήσετε torch.nn.Conv2d() που κάνει τη ζωή πιο εύκολη και αποκρύπτει όλες τις υποφαινόμενες λειτουργίες.\n",
        "\n",
        "**Μην** ξεχάσετε να σχολιάσετε τον κώδικά σας όπου χρειάζεται (π.χ. στον τρόπο υπολογισμού των διαστάσεων της εξόδου σε κάθε επίπεδο)."
      ]
    },
    {
      "cell_type": "code",
      "execution_count": 50,
      "metadata": {
        "id": "-OhmF0NM1Clj",
        "colab": {
          "base_uri": "https://localhost:8080/"
        },
        "outputId": "0613a0c5-6103-41c7-9e60-d2eda623499b"
      },
      "outputs": [
        {
          "output_type": "stream",
          "name": "stdout",
          "text": [
            "Epoch 1/10, Loss: 1.570\n",
            "Epoch 2/10, Loss: 0.152\n",
            "Epoch 3/10, Loss: 0.085\n",
            "Epoch 4/10, Loss: 0.062\n",
            "Epoch 5/10, Loss: 0.048\n",
            "Epoch 6/10, Loss: 0.038\n",
            "Epoch 7/10, Loss: 0.031\n",
            "Epoch 8/10, Loss: 0.025\n",
            "Epoch 9/10, Loss: 0.021\n",
            "Epoch 10/10, Loss: 0.019\n"
          ]
        }
      ],
      "source": [
        "def conv2d(x, W, stride, bias=None):\n",
        "    # x: input\n",
        "    # W: weights (out, in, kH, kW)\n",
        "    return F.conv2d(x, W, bias, stride=stride, padding=2)\n",
        "\n",
        "# Defining a Convolutional Neural Network\n",
        "class CNNClassifer(DNN):\n",
        "    def __init__(self, classes=10, n=10):\n",
        "        super(CNNClassifer, self).__init__()\n",
        "        \"\"\" ==========\n",
        "        YOUR CODE HERE\n",
        "        ========== \"\"\"\n",
        "        self.conv_first_weight = weight_variable((n, 1, 5, 5)) #kernel_size=5x5, stride=2, output_features=n\n",
        "        self.conv_first_bias = bias_variable((n,)) #The number of biases is equal to the number of output features, which is 'n'\n",
        "        #So the shape of bias tensor is n\n",
        "        self.conv_second_weight = weight_variable((n*2, n, 5, 5)) #kernel_size=5x5, stride=2, output_features=n*2\n",
        "        self.conv_second_bias = bias_variable((n*2,)) #The number of biases is equal to the number of output features, which is 'n*2'\n",
        "        #So the shape of bias tensor is n*2\n",
        "        self.fc_hidden_weight = weight_variable((n * 2 * 7 * 7, 64)) #At first I did it like the above but got an error that gave me the size at 980\n",
        "        #So I have 980 = n*2*x*x, therefore I get x = 7. I know the way is not correct but that's \n",
        "        #How I got it. :)\n",
        "        self.fc_hidden_bias = bias_variable(64,) #Initialize the bias tensor for the fully connected hidden layer\n",
        "        #The number of biases is equal to the number of hidden units, so the shape of bias tensor is 64\n",
        "        self.output_features_weight = weight_variable((64, classes))#Initialize the weight tensor for the output layer \n",
        "        # The input size to this layer is 64, so the shape of weight tensor is 64\n",
        "        self.output_features_bias = bias_variable((classes,)) #Initialize the bias tensor for the output layer \n",
        "        #The number of biases = 'classes', so the shape of bias tensor is 'classes'\n",
        "\n",
        "       \n",
        "    def forward(self, x):\n",
        "        \"\"\" ==========\n",
        "        YOUR CODE HERE\n",
        "        ========== \"\"\"\n",
        "        #Applies the first convolutional layer to the input x using conv2d() function and applies ReLU activation\n",
        "        x = F.relu(conv2d(x, self.conv_first_weight, stride =2, bias = self.conv_first_bias))\n",
        "        #Applies the second convolutional layer to the input x using conv2d() function and applies ReLU activation\n",
        "        x = F.relu(conv2d(x, self.conv_second_weight, stride =2, bias = self.conv_second_bias))\n",
        "        x = x.view(x.size(0), -1)  # Flatten the input\n",
        "        #Applies the fully connected hidden layer operation and applies ReLU activation\n",
        "        x = F.relu(torch.matmul(x, self.fc_hidden_weight) + self.fc_hidden_bias)\n",
        "        #Applies the final linear transformation to obtain the output of the network using the terms from the previous level\n",
        "        y = torch.matmul(x, self.output_features_weight) + self.output_features_bias    \n",
        "        return y \n",
        "    \n",
        "cnnClassifer = CNNClassifer()\n",
        "cnnClassifer.train_net(X_train, y_train, epochs=10, batchSize=50)"
      ]
    },
    {
      "cell_type": "code",
      "execution_count": 52,
      "metadata": {
        "id": "SWkNhBgf1Sf3",
        "colab": {
          "base_uri": "https://localhost:8080/",
          "height": 946
        },
        "outputId": "e3c3b8e6-ed7f-4dba-d5ea-bb2b1d4ab43c"
      },
      "outputs": [
        {
          "output_type": "stream",
          "name": "stderr",
          "text": [
            "100%|██████████| 200/200 [00:01<00:00, 196.55it/s]\n"
          ]
        },
        {
          "output_type": "stream",
          "name": "stdout",
          "text": [
            "Confusion matrix - MLP classifier accuracy: 98.330000\n",
            "MLP classifier accuracy: 98.330000\n"
          ]
        },
        {
          "output_type": "display_data",
          "data": {
            "text/plain": [
              "<Figure size 1400x600 with 1 Axes>"
            ],
            "image/png": "[encoded data removed]"
          },
          "metadata": {}
        },
        {
          "output_type": "stream",
          "name": "stdout",
          "text": [
            "[[9.770e+02 0.000e+00 0.000e+00 0.000e+00 0.000e+00 0.000e+00 0.000e+00\n",
            "  0.000e+00 2.000e+00 1.000e+00]\n",
            " [0.000e+00 1.132e+03 1.000e+00 0.000e+00 0.000e+00 0.000e+00 0.000e+00\n",
            "  0.000e+00 2.000e+00 0.000e+00]\n",
            " [3.000e+00 3.000e+00 1.016e+03 3.000e+00 1.000e+00 0.000e+00 2.000e+00\n",
            "  1.000e+00 3.000e+00 0.000e+00]\n",
            " [0.000e+00 0.000e+00 5.000e+00 9.970e+02 0.000e+00 4.000e+00 0.000e+00\n",
            "  2.000e+00 0.000e+00 2.000e+00]\n",
            " [1.000e+00 1.000e+00 2.000e+00 0.000e+00 9.640e+02 0.000e+00 3.000e+00\n",
            "  0.000e+00 0.000e+00 1.100e+01]\n",
            " [2.000e+00 0.000e+00 0.000e+00 8.000e+00 0.000e+00 8.800e+02 1.000e+00\n",
            "  0.000e+00 1.000e+00 0.000e+00]\n",
            " [9.000e+00 3.000e+00 0.000e+00 1.000e+00 1.000e+00 1.200e+01 9.320e+02\n",
            "  0.000e+00 0.000e+00 0.000e+00]\n",
            " [2.000e+00 4.000e+00 1.000e+01 1.000e+00 0.000e+00 0.000e+00 0.000e+00\n",
            "  1.002e+03 1.000e+00 8.000e+00]\n",
            " [8.000e+00 0.000e+00 4.000e+00 6.000e+00 1.000e+00 3.000e+00 1.000e+00\n",
            "  2.000e+00 9.440e+02 5.000e+00]\n",
            " [3.000e+00 2.000e+00 0.000e+00 1.000e+00 7.000e+00 2.000e+00 0.000e+00\n",
            "  3.000e+00 2.000e+00 9.890e+02]]\n"
          ]
        }
      ],
      "source": [
        "# Plot confusion matrix and print the test accuracy of the classifier\n",
        "\"\"\" ==========\n",
        "YOUR CODE HERE\n",
        " ========== \"\"\"\n",
        "M_cnn, acc_cnn = Confusion(X_test, y_test, cnnClassifer)\n",
        "\n",
        "print ('Confusion matrix - MLP classifier accuracy: %f'%acc_cnn)\n",
        "\n",
        "# Check also standard accucary of test() for consistency\n",
        "print ('MLP classifier accuracy: %f'%test(X_test, y_test, cnnClassifer))\n",
        "\n",
        "VisualizeConfussion(M_cnn)"
      ]
    },
    {
      "cell_type": "markdown",
      "metadata": {
        "id": "nHx9gSiK1xVp"
      },
      "source": [
        "* Σημειώστε ότι οι προσεγγίσεις MLP/ConvNet οδηγούν σε λίγο μεγαλύτερη ακρίβεια ταξινόμησης από την προσέγγιση K-NN. \n",
        "* Στη γενική περίπτωση, οι προσεγγίσεις Νευρωνικών Δικτύων οδηγούν σε σημαντική αύξηση της ακρίβειας, αλλά, σε αυτή την περίπτωση, εφόσον το πρόβλημα δεν είναι ιδιαίτερα δύσκολο, η αύξηση της ακρίβειας δεν είναι και τόσο υψηλή.\n",
        "* Ωστόσο, αυτό εξακολουθεί να είναι αρκετά σημαντικό, δεδομένου του γεγονότος ότι τα ConvNets που χρησιμοποιήσαμε είναι σχετικά απλά, ενώ η ακρίβεια που επιτυγχάνεται χρησιμοποιώντας το K-NN είναι αποτέλεσμα αναζήτησης σε πάνω από 60.000 εικόνες εκπαίδευσης για κάθε εικόνα ελέγχου.\n",
        "* Συνιστάται ιδιαίτερα να αναζητήσετε περισσότερα για τα νευρωνικά δίκτυα/PyTorch στη διεύθυνση<br> https://pytorch.org/tutorials/beginner/deep_learning_60min_blitz.html καθώς και στο σχετικό tutorial στη σελίδα ecourse του μαθήματος **tutorial1_pytorch_introduction.ipynb**.\n",
        "* Τέλος, μπορείτε ακόμη να πειραματιστείτε (από δικό σας ενδιαφέρον) με ένα demo νευρωνικού δικτύου που δημιουργήθηκε από τους Daniel Smilkov και Shan Carter στη διεύθυνση https://playground.tensorflow.org/ (για πλατφόρμα TensorFlow).\n",
        "\n",
        "\n",
        "\n",
        "## Οδηγίες υποβολής\n",
        "\n",
        "Μην ξεχάσετε να κάνετε turnin το αρχείο Jupyter notebook **και** το PDF αρχείο αυτού του notebook μαζί με το συνοδευτικό αρχείο `onoma.txt`:\n",
        "**turnin  assignment_3@mye046 onoma.txt assignment3.ipynb assignment3.pdf**\n",
        "\n",
        "Βεβαιωθείτε ότι το περιεχόμενο σε **κάθε κελί εμφανίζεται** καθαρά στο τελικό σας αρχείο PDF.\n",
        "Για να μετατρέψετε το σημειωματάριο σε PDF, μπορείτε να επιλέξετε **έναν** από τους παρακάτω τρόπους:\n",
        "\n",
        "1. Google Colab (Συνιστάται): You can `print` the web page and save as PDF (e.g. Chrome: Right click the web page $\\rightarrow$ Print... $\\rightarrow$ Choose \"Destination: Save as PDF\" and click \"Save\"). Προσοχή στην περίπτωση όπου κώδικας/σχόλια εμφανίζονται εκτός των ορίων της σελίδας. Μια λύση είναι η αλλαγή γραμμής π.χ. σε σχόλια που υπερβαίνουν το πλάτος της σελίδας.\n",
        "* Στην περίπτωση που οι εικόνες εξόδου δεν εμφανίζονται σωστά, μια λύση μέσω colab είναι (εργαλείο nbconvert):\n",
        "   * Ανέβασμα του αρχείου `assignment3.ipynb` στο home directory του Colaboratory (ο κατάλογος home είναι: /content/).\n",
        "   * Εκτελέστε σε ένα κελί colab ενός νέου notebook: `!jupyter nbconvert --to html /content/assignment3.ipynb`\n",
        "   * Κάνετε λήψη του assignment3.html τοπικά στον υπολογιστή σας και ανοίξτε το αρχείο μέσω browser ώστε να το εξάγετε ως PDF.\n",
        "\n",
        "2. Local Jupyter/JupyterLab(Συνιστάται): You can `print` the web page and save as PDF (File $\\rightarrow$ Print... $\\rightarrow$ Choose \"Destination: Save as PDF\" and click \"Save\"). Προσοχή στην περίπτωση όπου κώδικας/σχόλια εμφανίζονται εκτός των ορίων της σελίδας. Μια λύση είναι η αλλαγή γραμμής π.χ. σε σχόλια που υπερβαίνουν το πλάτος της σελίδας.\n",
        "\n",
        "3. Local Jupyter/JupyterLab(Συνιστάται!): You can `export` and save as HTML (File $\\rightarrow$ Save & Export Notebook as... $\\rightarrow$ HTML). Στη συνέχεια μπορείτε να μετατρέψεται το HTML αρχείο αποθηκεύοντάς το ως PDF μέσω ενός browser."
      ]
    }
  ],
  "metadata": {
    "anaconda-cloud": {},
    "colab": {
      "provenance": [],
      "gpuType": "T4"
    },
    "hide_input": false,
    "kernelspec": {
      "display_name": "Python 3",
      "name": "python3"
    },
    "language_info": {
      "codemirror_mode": {
        "name": "ipython",
        "version": 3
      },
      "file_extension": ".py",
      "mimetype": "text/x-python",
      "name": "python",
      "nbconvert_exporter": "python",
      "pygments_lexer": "ipython3",
      "version": "3.10.9"
    },
    "toc": {
      "colors": {
        "hover_highlight": "#DAA520",
        "running_highlight": "#FF0000",
        "selected_highlight": "#FFD700"
      },
      "moveMenuLeft": true,
      "nav_menu": {
        "height": "123px",
        "width": "252px"
      },
      "navigate_menu": true,
      "number_sections": true,
      "sideBar": true,
      "threshold": 4,
      "toc_cell": false,
      "toc_section_display": "block",
      "toc_window_display": false,
      "widenNotebook": false
    },
    "accelerator": "GPU"
  },
  "nbformat": 4,
  "nbformat_minor": 0
}